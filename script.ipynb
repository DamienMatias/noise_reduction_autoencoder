{
 "cells": [
  {
   "cell_type": "code",
   "execution_count": 4,
   "metadata": {},
   "outputs": [],
   "source": [
    "import numpy as np\n",
    "import keras\n",
    "from keras.layers import Input, Dense, Conv2D, MaxPooling2D, UpSampling2D\n",
    "from keras.models import Model\n",
    "from sklearn.model_selection import train_test_split\n",
    "import matplotlib.pyplot as plt\n",
    "%matplotlib inline"
   ]
  },
  {
   "cell_type": "code",
   "execution_count": 5,
   "metadata": {
    "collapsed": true
   },
   "outputs": [],
   "source": [
    "(X_train, _), (X_test, _) = keras.datasets.mnist.load_data()"
   ]
  },
  {
   "cell_type": "code",
   "execution_count": 6,
   "metadata": {},
   "outputs": [
    {
     "data": {
      "image/png": "[encoded data removed]",
      "text/plain": [
       "<matplotlib.figure.Figure at 0x7fb5bc697ef0>"
      ]
     },
     "metadata": {},
     "output_type": "display_data"
    }
   ],
   "source": [
    "plt.figure(figsize=(10, 5))\n",
    "for i in range(10):\n",
    "    plt.subplot(1, 10, i+1)\n",
    "    plt.imshow(X_train[i], cmap='gray')\n",
    "    plt.xticks([])\n",
    "    plt.yticks([])\n",
    "plt.show()"
   ]
  },
  {
   "cell_type": "code",
   "execution_count": 7,
   "metadata": {
    "collapsed": true
   },
   "outputs": [],
   "source": [
    "def preprocess(x):\n",
    "    x = x.astype('float32') / 255.\n",
    "    return x.reshape(-1, np.prod(x.shape[1:])) # flatten\n",
    "\n",
    "X_train = preprocess(X_train)\n",
    "X_test  = preprocess(X_test)\n",
    "\n",
    "# also create a validation set for training\n",
    "X_train, X_valid = train_test_split(X_train, test_size=0.3)"
   ]
  },
  {
   "cell_type": "markdown",
   "metadata": {},
   "source": [
    "## Convolutional Autoencoder"
   ]
  },
  {
   "cell_type": "code",
   "execution_count": 8,
   "metadata": {
    "collapsed": true
   },
   "outputs": [],
   "source": [
    "def convolutional_autoencoder():\n",
    "    # encoding\n",
    "    inputs = Input(shape=(28, 28, 1))\n",
    "    x = Conv2D(16, 3, activation='relu', padding='same')(inputs)\n",
    "    x = MaxPooling2D(padding='same')(x)\n",
    "    x = Conv2D( 8, 3, activation='relu', padding='same')(x)\n",
    "    x = MaxPooling2D(padding='same')(x)\n",
    "    x = Conv2D( 8, 3, activation='relu', padding='same')(x)\n",
    "    encoded = MaxPooling2D(padding='same')(x)    \n",
    "    \n",
    "    # decoding\n",
    "    x = Conv2D( 8, 3, activation='relu', padding='same')(encoded)\n",
    "    x = UpSampling2D()(x)\n",
    "    x = Conv2D( 8, 3, activation='relu', padding='same')(x)\n",
    "    x = UpSampling2D()(x)\n",
    "    x = Conv2D(16, 3, activation='relu')(x) # <= padding='valid'!\n",
    "    x = UpSampling2D()(x)\n",
    "    decoded = Conv2D(1, 3, activation='sigmoid', padding='same')(x)    \n",
    "    \n",
    "    # autoencoder\n",
    "    autoencoder = Model(inputs, decoded)\n",
    "    autoencoder.compile(optimizer='adam', loss='binary_crossentropy')\n",
    "    autoencoder.summary()\n",
    "    \n",
    "    return autoencoder"
   ]
  },
  {
   "cell_type": "code",
   "execution_count": 10,
   "metadata": {},
   "outputs": [
    {
     "name": "stdout",
     "output_type": "stream",
     "text": [
      "_________________________________________________________________\n",
      "Layer (type)                 Output Shape              Param #   \n",
      "=================================================================\n",
      "input_1 (InputLayer)         (None, 28, 28, 1)         0         \n",
      "_________________________________________________________________\n",
      "conv2d_1 (Conv2D)            (None, 28, 28, 16)        160       \n",
      "_________________________________________________________________\n",
      "max_pooling2d_1 (MaxPooling2 (None, 14, 14, 16)        0         \n",
      "_________________________________________________________________\n",
      "conv2d_2 (Conv2D)            (None, 14, 14, 8)         1160      \n",
      "_________________________________________________________________\n",
      "max_pooling2d_2 (MaxPooling2 (None, 7, 7, 8)           0         \n",
      "_________________________________________________________________\n",
      "conv2d_3 (Conv2D)            (None, 7, 7, 8)           584       \n",
      "_________________________________________________________________\n",
      "max_pooling2d_3 (MaxPooling2 (None, 4, 4, 8)           0         \n",
      "_________________________________________________________________\n",
      "conv2d_4 (Conv2D)            (None, 4, 4, 8)           584       \n",
      "_________________________________________________________________\n",
      "up_sampling2d_1 (UpSampling2 (None, 8, 8, 8)           0         \n",
      "_________________________________________________________________\n",
      "conv2d_5 (Conv2D)            (None, 8, 8, 8)           584       \n",
      "_________________________________________________________________\n",
      "up_sampling2d_2 (UpSampling2 (None, 16, 16, 8)         0         \n",
      "_________________________________________________________________\n",
      "conv2d_6 (Conv2D)            (None, 14, 14, 16)        1168      \n",
      "_________________________________________________________________\n",
      "up_sampling2d_3 (UpSampling2 (None, 28, 28, 16)        0         \n",
      "_________________________________________________________________\n",
      "conv2d_7 (Conv2D)            (None, 28, 28, 1)         145       \n",
      "=================================================================\n",
      "Total params: 4,385\n",
      "Trainable params: 4,385\n",
      "Non-trainable params: 0\n",
      "_________________________________________________________________\n",
      "Train on 42000 samples, validate on 18000 samples\n",
      "Epoch 1/50\n",
      "42000/42000 [==============================] - 10s 235us/step - loss: 0.2438 - val_loss: 0.1712\n",
      "Epoch 2/50\n",
      "42000/42000 [==============================] - 7s 173us/step - loss: 0.1587 - val_loss: 0.1490\n",
      "Epoch 3/50\n",
      "42000/42000 [==============================] - 7s 164us/step - loss: 0.1403 - val_loss: 0.1336\n",
      "Epoch 4/50\n",
      "42000/42000 [==============================] - 7s 161us/step - loss: 0.1292 - val_loss: 0.1249\n",
      "Epoch 5/50\n",
      "42000/42000 [==============================] - 7s 162us/step - loss: 0.1219 - val_loss: 0.1188\n",
      "Epoch 6/50\n",
      "42000/42000 [==============================] - 7s 162us/step - loss: 0.1172 - val_loss: 0.1161\n",
      "Epoch 7/50\n",
      "42000/42000 [==============================] - 7s 165us/step - loss: 0.1140 - val_loss: 0.1143\n",
      "Epoch 8/50\n",
      "42000/42000 [==============================] - 7s 164us/step - loss: 0.1117 - val_loss: 0.1109\n",
      "Epoch 9/50\n",
      "42000/42000 [==============================] - 7s 167us/step - loss: 0.1097 - val_loss: 0.1094\n",
      "Epoch 10/50\n",
      "42000/42000 [==============================] - 7s 167us/step - loss: 0.1082 - val_loss: 0.1075\n",
      "Epoch 11/50\n",
      "42000/42000 [==============================] - 7s 166us/step - loss: 0.1070 - val_loss: 0.1067\n",
      "Epoch 12/50\n",
      "42000/42000 [==============================] - 7s 166us/step - loss: 0.1059 - val_loss: 0.1057\n",
      "Epoch 13/50\n",
      "42000/42000 [==============================] - 7s 162us/step - loss: 0.1050 - val_loss: 0.1046\n",
      "Epoch 14/50\n",
      "42000/42000 [==============================] - 7s 161us/step - loss: 0.1042 - val_loss: 0.1049\n",
      "Epoch 15/50\n",
      "42000/42000 [==============================] - 7s 160us/step - loss: 0.1035 - val_loss: 0.1031\n",
      "Epoch 16/50\n",
      "42000/42000 [==============================] - 7s 155us/step - loss: 0.1028 - val_loss: 0.1022\n",
      "Epoch 17/50\n",
      "42000/42000 [==============================] - 7s 160us/step - loss: 0.1022 - val_loss: 0.1024\n",
      "Epoch 18/50\n",
      "42000/42000 [==============================] - 7s 155us/step - loss: 0.1016 - val_loss: 0.1017\n",
      "Epoch 19/50\n",
      "42000/42000 [==============================] - 7s 158us/step - loss: 0.1012 - val_loss: 0.1011\n",
      "Epoch 20/50\n",
      "42000/42000 [==============================] - 7s 156us/step - loss: 0.1007 - val_loss: 0.1006\n",
      "Epoch 21/50\n",
      "42000/42000 [==============================] - 7s 158us/step - loss: 0.1003 - val_loss: 0.0997\n",
      "Epoch 22/50\n",
      "42000/42000 [==============================] - 7s 156us/step - loss: 0.0998 - val_loss: 0.1000\n",
      "Epoch 23/50\n",
      "42000/42000 [==============================] - 7s 157us/step - loss: 0.0995 - val_loss: 0.0994\n",
      "Epoch 24/50\n",
      "42000/42000 [==============================] - 7s 161us/step - loss: 0.0991 - val_loss: 0.0988\n",
      "Epoch 25/50\n",
      "42000/42000 [==============================] - 7s 159us/step - loss: 0.0988 - val_loss: 0.0986\n",
      "Epoch 26/50\n",
      "42000/42000 [==============================] - 7s 165us/step - loss: 0.0984 - val_loss: 0.0984\n",
      "Epoch 27/50\n",
      "42000/42000 [==============================] - 7s 161us/step - loss: 0.0981 - val_loss: 0.0986\n",
      "Epoch 28/50\n",
      "42000/42000 [==============================] - 7s 165us/step - loss: 0.0979 - val_loss: 0.0983\n",
      "Epoch 29/50\n",
      "42000/42000 [==============================] - 7s 160us/step - loss: 0.0977 - val_loss: 0.0976\n",
      "Epoch 30/50\n",
      "42000/42000 [==============================] - 7s 161us/step - loss: 0.0974 - val_loss: 0.0975\n",
      "Epoch 31/50\n",
      "42000/42000 [==============================] - 7s 163us/step - loss: 0.0972 - val_loss: 0.0973\n",
      "Epoch 32/50\n",
      "42000/42000 [==============================] - 7s 165us/step - loss: 0.0969 - val_loss: 0.0974\n",
      "Epoch 33/50\n",
      "42000/42000 [==============================] - 7s 165us/step - loss: 0.0967 - val_loss: 0.0970\n",
      "Epoch 34/50\n",
      "42000/42000 [==============================] - 7s 162us/step - loss: 0.0966 - val_loss: 0.0964\n",
      "Epoch 35/50\n",
      "42000/42000 [==============================] - 7s 164us/step - loss: 0.0963 - val_loss: 0.0962\n",
      "Epoch 36/50\n",
      "42000/42000 [==============================] - 7s 162us/step - loss: 0.0962 - val_loss: 0.0960\n",
      "Epoch 37/50\n",
      "42000/42000 [==============================] - 7s 163us/step - loss: 0.0961 - val_loss: 0.0979\n",
      "Epoch 38/50\n",
      "42000/42000 [==============================] - 7s 163us/step - loss: 0.0959 - val_loss: 0.0969\n",
      "Epoch 39/50\n",
      "42000/42000 [==============================] - 7s 168us/step - loss: 0.0958 - val_loss: 0.0955\n",
      "Epoch 40/50\n",
      "42000/42000 [==============================] - 7s 162us/step - loss: 0.0956 - val_loss: 0.0958\n",
      "Epoch 41/50\n",
      "42000/42000 [==============================] - 7s 162us/step - loss: 0.0954 - val_loss: 0.0953\n",
      "Epoch 42/50\n",
      "42000/42000 [==============================] - 7s 163us/step - loss: 0.0953 - val_loss: 0.0963\n",
      "Epoch 43/50\n",
      "42000/42000 [==============================] - 7s 166us/step - loss: 0.0952 - val_loss: 0.0954\n",
      "Epoch 44/50\n",
      "42000/42000 [==============================] - 7s 162us/step - loss: 0.0951 - val_loss: 0.0957\n",
      "Epoch 45/50\n",
      "42000/42000 [==============================] - 7s 165us/step - loss: 0.0949 - val_loss: 0.0953\n",
      "Epoch 46/50\n",
      "42000/42000 [==============================] - 7s 161us/step - loss: 0.0948 - val_loss: 0.0951\n",
      "Epoch 47/50\n",
      "42000/42000 [==============================] - 7s 165us/step - loss: 0.0947 - val_loss: 0.0949\n",
      "Epoch 48/50\n",
      "42000/42000 [==============================] - 7s 165us/step - loss: 0.0945 - val_loss: 0.0943\n",
      "Epoch 49/50\n",
      "42000/42000 [==============================] - 7s 162us/step - loss: 0.0945 - val_loss: 0.0946\n",
      "Epoch 50/50\n",
      "42000/42000 [==============================] - 7s 163us/step - loss: 0.0944 - val_loss: 0.0942\n"
     ]
    },
    {
     "data": {
      "text/plain": [
       "<keras.callbacks.History at 0x7fb5c5c0f438>"
      ]
     },
     "execution_count": 10,
     "metadata": {},
     "output_type": "execute_result"
    }
   ],
   "source": [
    "X_train = X_train.reshape(-1, 28, 28, 1)\n",
    "X_valid = X_valid.reshape(-1, 28, 28, 1)\n",
    "X_test  = X_test.reshape(-1, 28, 28, 1)\n",
    "\n",
    "autoencoder = convolutional_autoencoder()\n",
    "autoencoder.fit(X_train, X_train, epochs=50, batch_size=128, validation_data=(X_valid, X_valid))"
   ]
  },
  {
   "cell_type": "code",
   "execution_count": 12,
   "metadata": {
    "collapsed": true
   },
   "outputs": [],
   "source": [
    "def show_images(before_images, after_images):\n",
    "    plt.figure(figsize=(10, 2))\n",
    "    for i in range(10):\n",
    "        # before\n",
    "        plt.subplot(2, 10, i+1)\n",
    "        plt.imshow(before_images[i].reshape(28, 28), cmap='gray')\n",
    "        plt.xticks([])\n",
    "        plt.yticks([])\n",
    "        # after\n",
    "        plt.subplot(2, 10, 10+i+1)\n",
    "        plt.imshow(after_images[i].reshape(28, 28), cmap='gray')\n",
    "        plt.xticks([])\n",
    "        plt.yticks([])\n",
    "    plt.show()"
   ]
  },
  {
   "cell_type": "code",
   "execution_count": 13,
   "metadata": {},
   "outputs": [
    {
     "data": {
      "image/png": "[encoded data removed]",
      "text/plain": [
       "<matplotlib.figure.Figure at 0x7fb5b9379860>"
      ]
     },
     "metadata": {},
     "output_type": "display_data"
    }
   ],
   "source": [
    "X_test_decoded = autoencoder.predict(X_test)\n",
    "\n",
    "show_images(X_test, X_test_decoded)"
   ]
  }
 ],
 "metadata": {
  "kernelspec": {
   "display_name": "Python 3",
   "language": "python",
   "name": "python3"
  },
  "language_info": {
   "codemirror_mode": {
    "name": "ipython",
    "version": 3
   },
   "file_extension": ".py",
   "mimetype": "text/x-python",
   "name": "python",
   "nbconvert_exporter": "python",
   "pygments_lexer": "ipython3",
   "version": "3.5.4"
  }
 },
 "nbformat": 4,
 "nbformat_minor": 2
}
