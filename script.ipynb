{
 "cells": [
  {
   "cell_type": "markdown",
   "metadata": {},
   "source": [
    "# Keras and Autoencoder\n",
    "\n",
    "This code is based on this notebook https://github.com/naokishibuya/deep-learning/blob/master/python/autoencoder_noise_reduction.ipynb\n",
    "\n"
   ]
  },
  {
   "cell_type": "code",
   "execution_count": 1,
   "metadata": {},
   "outputs": [
    {
     "name": "stderr",
     "output_type": "stream",
     "text": [
      "Using TensorFlow backend.\n"
     ]
    }
   ],
   "source": [
    "import numpy as np\n",
    "import keras\n",
    "from keras.layers import Input, Dense, Conv2D, MaxPooling2D, UpSampling2D\n",
    "from keras.models import Model\n",
    "from keras.callbacks import ModelCheckpoint, Callback, EarlyStopping, TensorBoard\n",
    "from sklearn.model_selection import train_test_split\n",
    "import matplotlib.pyplot as plt\n",
    "%matplotlib inline"
   ]
  },
  {
   "cell_type": "markdown",
   "metadata": {},
   "source": [
    "## MNIST\n",
    "\n",
    "Database for handwritten digits made by Yann Lecun"
   ]
  },
  {
   "cell_type": "code",
   "execution_count": 2,
   "metadata": {
    "collapsed": true
   },
   "outputs": [],
   "source": [
    "(X_train, _), (X_test, _) = keras.datasets.mnist.load_data()"
   ]
  },
  {
   "cell_type": "code",
   "execution_count": 3,
   "metadata": {},
   "outputs": [
    {
     "data": {
      "image/png": "[encoded data removed]",
      "text/plain": [
       "<matplotlib.figure.Figure at 0x7f52cd341cf8>"
      ]
     },
     "metadata": {},
     "output_type": "display_data"
    }
   ],
   "source": [
    "plt.figure(figsize=(10, 5))\n",
    "for i in range(10):\n",
    "    plt.subplot(1, 10, i+1)\n",
    "    plt.imshow(X_train[i], cmap='gray')\n",
    "    plt.xticks([])\n",
    "    plt.yticks([])\n",
    "plt.show()"
   ]
  },
  {
   "cell_type": "code",
   "execution_count": 4,
   "metadata": {},
   "outputs": [],
   "source": [
    "def preprocess(x):\n",
    "    x = x.astype('float32') / 255.\n",
    "    return x.reshape(-1, np.prod(x.shape[1:])) # flatten\n",
    "\n",
    "X_train = preprocess(X_train)\n",
    "X_test  = preprocess(X_test)\n",
    "\n",
    "# also create a validation set for training\n",
    "X_train, X_valid = train_test_split(X_train, test_size=0.3)"
   ]
  },
  {
   "cell_type": "markdown",
   "metadata": {},
   "source": [
    "## Convolutional Autoencoder\n",
    "\n",
    "Here we are going to define our model"
   ]
  },
  {
   "cell_type": "code",
   "execution_count": 5,
   "metadata": {},
   "outputs": [],
   "source": [
    "def convolutional_autoencoder():\n",
    "    # encoding\n",
    "    inputs = Input(shape=(28, 28, 1))\n",
    "    x = Conv2D(16, 3, activation='relu', padding='same')(inputs)\n",
    "    x = MaxPooling2D(padding='same')(x)\n",
    "    x = Conv2D( 8, 3, activation='relu', padding='same')(x)\n",
    "    x = MaxPooling2D(padding='same')(x)\n",
    "    x = Conv2D( 8, 3, activation='relu', padding='same')(x)\n",
    "    encoded = MaxPooling2D(padding='same')(x)    \n",
    "    \n",
    "    # decoding\n",
    "    x = Conv2D( 8, 3, activation='relu', padding='same')(encoded)\n",
    "    x = UpSampling2D()(x)\n",
    "    x = Conv2D( 8, 3, activation='relu', padding='same')(x)\n",
    "    x = UpSampling2D()(x)\n",
    "    x = Conv2D(16, 3, activation='relu')(x)\n",
    "    x = UpSampling2D()(x)\n",
    "    decoded = Conv2D(1, 3, activation='sigmoid', padding='same')(x)    \n",
    "    \n",
    "    # autoencoder\n",
    "    autoencoder = Model(inputs, decoded)\n",
    "    autoencoder.compile(optimizer='adam', loss='binary_crossentropy')\n",
    "    autoencoder.summary()\n",
    "    \n",
    "    return autoencoder\n",
    "\n",
    "def get_callbacks(model_filepath, log_dir, patience=10):\n",
    "    earlystopping = EarlyStopping('val_loss', patience=patience, mode=\"min\")\n",
    "    checkpointer = ModelCheckpoint(filepath=model_filepath,\n",
    "                               verbose=0,\n",
    "                               save_best_only=True)\n",
    "    tensorboard = TensorBoard(log_dir=log_dir,\n",
    "                              histogram_freq=0,\n",
    "                              write_graph=True,\n",
    "                              write_images=True)\n",
    "    return [earlystopping, checkpointer, tensorboard]\n",
    "\n",
    "file_path_feed_forward = \".model_weights_conv_autoe.hdf5\"\n",
    "log_dir_feed_forward = './logs/conv_autoe'\n",
    "callbacks_feed_forward = get_callbacks(file_path_feed_forward, log_dir_feed_forward, patience=10)"
   ]
  },
  {
   "cell_type": "markdown",
   "metadata": {},
   "source": [
    "Before anything, we need reshape our data to the format that our model expects."
   ]
  },
  {
   "cell_type": "code",
   "execution_count": 6,
   "metadata": {
    "collapsed": true
   },
   "outputs": [],
   "source": [
    "X_train = X_train.reshape(-1, 28, 28, 1)\n",
    "X_valid = X_valid.reshape(-1, 28, 28, 1)\n",
    "X_test  = X_test.reshape(-1, 28, 28, 1)"
   ]
  },
  {
   "cell_type": "code",
   "execution_count": 7,
   "metadata": {},
   "outputs": [
    {
     "name": "stdout",
     "output_type": "stream",
     "text": [
      "_________________________________________________________________\n",
      "Layer (type)                 Output Shape              Param #   \n",
      "=================================================================\n",
      "input_1 (InputLayer)         (None, 28, 28, 1)         0         \n",
      "_________________________________________________________________\n",
      "conv2d_1 (Conv2D)            (None, 28, 28, 16)        160       \n",
      "_________________________________________________________________\n",
      "max_pooling2d_1 (MaxPooling2 (None, 14, 14, 16)        0         \n",
      "_________________________________________________________________\n",
      "conv2d_2 (Conv2D)            (None, 14, 14, 8)         1160      \n",
      "_________________________________________________________________\n",
      "max_pooling2d_2 (MaxPooling2 (None, 7, 7, 8)           0         \n",
      "_________________________________________________________________\n",
      "conv2d_3 (Conv2D)            (None, 7, 7, 8)           584       \n",
      "_________________________________________________________________\n",
      "max_pooling2d_3 (MaxPooling2 (None, 4, 4, 8)           0         \n",
      "_________________________________________________________________\n",
      "conv2d_4 (Conv2D)            (None, 4, 4, 8)           584       \n",
      "_________________________________________________________________\n",
      "up_sampling2d_1 (UpSampling2 (None, 8, 8, 8)           0         \n",
      "_________________________________________________________________\n",
      "conv2d_5 (Conv2D)            (None, 8, 8, 8)           584       \n",
      "_________________________________________________________________\n",
      "up_sampling2d_2 (UpSampling2 (None, 16, 16, 8)         0         \n",
      "_________________________________________________________________\n",
      "conv2d_6 (Conv2D)            (None, 14, 14, 16)        1168      \n",
      "_________________________________________________________________\n",
      "up_sampling2d_3 (UpSampling2 (None, 28, 28, 16)        0         \n",
      "_________________________________________________________________\n",
      "conv2d_7 (Conv2D)            (None, 28, 28, 1)         145       \n",
      "=================================================================\n",
      "Total params: 4,385\n",
      "Trainable params: 4,385\n",
      "Non-trainable params: 0\n",
      "_________________________________________________________________\n",
      "Train on 42000 samples, validate on 18000 samples\n",
      "Epoch 1/50\n",
      "42000/42000 [==============================] - 9s 220us/step - loss: 0.2581 - val_loss: 0.1700\n",
      "Epoch 2/50\n",
      "42000/42000 [==============================] - 8s 179us/step - loss: 0.1525 - val_loss: 0.1408\n",
      "Epoch 3/50\n",
      "42000/42000 [==============================] - 7s 173us/step - loss: 0.1345 - val_loss: 0.1313\n",
      "Epoch 4/50\n",
      "42000/42000 [==============================] - 7s 170us/step - loss: 0.1271 - val_loss: 0.1251\n",
      "Epoch 5/50\n",
      "42000/42000 [==============================] - 7s 172us/step - loss: 0.1225 - val_loss: 0.1209\n",
      "Epoch 6/50\n",
      "42000/42000 [==============================] - 8s 179us/step - loss: 0.1191 - val_loss: 0.1180\n",
      "Epoch 7/50\n",
      "42000/42000 [==============================] - 7s 176us/step - loss: 0.1164 - val_loss: 0.1154\n",
      "Epoch 8/50\n",
      "42000/42000 [==============================] - 8s 180us/step - loss: 0.1142 - val_loss: 0.1135\n",
      "Epoch 9/50\n",
      "42000/42000 [==============================] - 8s 180us/step - loss: 0.1124 - val_loss: 0.1119\n",
      "Epoch 10/50\n",
      "42000/42000 [==============================] - 7s 178us/step - loss: 0.1108 - val_loss: 0.1102\n",
      "Epoch 11/50\n",
      "42000/42000 [==============================] - 8s 180us/step - loss: 0.1093 - val_loss: 0.1089\n",
      "Epoch 12/50\n",
      "42000/42000 [==============================] - 8s 186us/step - loss: 0.1080 - val_loss: 0.1080\n",
      "Epoch 13/50\n",
      "42000/42000 [==============================] - 8s 183us/step - loss: 0.1068 - val_loss: 0.1077\n",
      "Epoch 14/50\n",
      "42000/42000 [==============================] - 8s 180us/step - loss: 0.1059 - val_loss: 0.1058\n",
      "Epoch 15/50\n",
      "42000/42000 [==============================] - 8s 183us/step - loss: 0.1049 - val_loss: 0.1048\n",
      "Epoch 16/50\n",
      "42000/42000 [==============================] - 8s 183us/step - loss: 0.1042 - val_loss: 0.1043\n",
      "Epoch 17/50\n",
      "42000/42000 [==============================] - 8s 182us/step - loss: 0.1035 - val_loss: 0.1038\n",
      "Epoch 18/50\n",
      "42000/42000 [==============================] - 8s 182us/step - loss: 0.1029 - val_loss: 0.1028\n",
      "Epoch 19/50\n",
      "42000/42000 [==============================] - 7s 178us/step - loss: 0.1022 - val_loss: 0.1026\n",
      "Epoch 20/50\n",
      "42000/42000 [==============================] - 8s 186us/step - loss: 0.1018 - val_loss: 0.1017\n",
      "Epoch 21/50\n",
      "42000/42000 [==============================] - 7s 176us/step - loss: 0.1013 - val_loss: 0.1020\n",
      "Epoch 22/50\n",
      "42000/42000 [==============================] - 8s 185us/step - loss: 0.1008 - val_loss: 0.1012\n",
      "Epoch 23/50\n",
      "42000/42000 [==============================] - 8s 187us/step - loss: 0.1004 - val_loss: 0.1005\n",
      "Epoch 24/50\n",
      "42000/42000 [==============================] - 8s 182us/step - loss: 0.1001 - val_loss: 0.1014\n",
      "Epoch 25/50\n",
      "42000/42000 [==============================] - 8s 186us/step - loss: 0.0997 - val_loss: 0.0999\n",
      "Epoch 26/50\n",
      "42000/42000 [==============================] - 8s 193us/step - loss: 0.0993 - val_loss: 0.0996\n",
      "Epoch 27/50\n",
      "42000/42000 [==============================] - 8s 195us/step - loss: 0.0991 - val_loss: 0.0996\n",
      "Epoch 28/50\n",
      "42000/42000 [==============================] - 8s 191us/step - loss: 0.0988 - val_loss: 0.0989\n",
      "Epoch 29/50\n",
      "42000/42000 [==============================] - 8s 193us/step - loss: 0.0985 - val_loss: 0.0988\n",
      "Epoch 30/50\n",
      "42000/42000 [==============================] - 8s 191us/step - loss: 0.0983 - val_loss: 0.0994\n",
      "Epoch 31/50\n",
      "42000/42000 [==============================] - 8s 190us/step - loss: 0.0980 - val_loss: 0.0986\n",
      "Epoch 32/50\n",
      "42000/42000 [==============================] - 8s 181us/step - loss: 0.0978 - val_loss: 0.0987\n",
      "Epoch 33/50\n",
      "42000/42000 [==============================] - 8s 183us/step - loss: 0.0977 - val_loss: 0.0978\n",
      "Epoch 34/50\n",
      "42000/42000 [==============================] - 8s 183us/step - loss: 0.0973 - val_loss: 0.0975\n",
      "Epoch 35/50\n",
      "42000/42000 [==============================] - 8s 181us/step - loss: 0.0972 - val_loss: 0.0974\n",
      "Epoch 36/50\n",
      "42000/42000 [==============================] - 8s 182us/step - loss: 0.0970 - val_loss: 0.0974\n",
      "Epoch 37/50\n",
      "42000/42000 [==============================] - 8s 187us/step - loss: 0.0968 - val_loss: 0.0976\n",
      "Epoch 38/50\n",
      "42000/42000 [==============================] - 8s 188us/step - loss: 0.0966 - val_loss: 0.0972\n",
      "Epoch 39/50\n",
      "42000/42000 [==============================] - 8s 188us/step - loss: 0.0965 - val_loss: 0.0971\n",
      "Epoch 40/50\n",
      "42000/42000 [==============================] - 8s 191us/step - loss: 0.0963 - val_loss: 0.0969\n",
      "Epoch 41/50\n",
      "42000/42000 [==============================] - 8s 184us/step - loss: 0.0961 - val_loss: 0.0964\n",
      "Epoch 42/50\n",
      "42000/42000 [==============================] - 8s 188us/step - loss: 0.0960 - val_loss: 0.0962\n",
      "Epoch 43/50\n",
      "42000/42000 [==============================] - 8s 182us/step - loss: 0.0958 - val_loss: 0.0959\n",
      "Epoch 44/50\n",
      "42000/42000 [==============================] - 8s 183us/step - loss: 0.0957 - val_loss: 0.0962\n",
      "Epoch 45/50\n",
      "42000/42000 [==============================] - 8s 183us/step - loss: 0.0956 - val_loss: 0.0978\n",
      "Epoch 46/50\n",
      "42000/42000 [==============================] - 8s 184us/step - loss: 0.0954 - val_loss: 0.0958\n",
      "Epoch 47/50\n",
      "42000/42000 [==============================] - 8s 188us/step - loss: 0.0953 - val_loss: 0.0955\n",
      "Epoch 48/50\n",
      "42000/42000 [==============================] - 8s 185us/step - loss: 0.0951 - val_loss: 0.0954\n",
      "Epoch 49/50\n",
      "42000/42000 [==============================] - 8s 182us/step - loss: 0.0951 - val_loss: 0.0957\n",
      "Epoch 50/50\n",
      "42000/42000 [==============================] - 8s 188us/step - loss: 0.0949 - val_loss: 0.0954\n"
     ]
    },
    {
     "data": {
      "text/plain": [
       "<keras.callbacks.History at 0x7f52bc32bd30>"
      ]
     },
     "execution_count": 7,
     "metadata": {},
     "output_type": "execute_result"
    }
   ],
   "source": [
    "autoencoder = convolutional_autoencoder()\n",
    "autoencoder.fit(\n",
    "    X_train, X_train, \n",
    "    epochs=50, \n",
    "    batch_size=128, \n",
    "    validation_data=(X_valid, X_valid), \n",
    "    callbacks=callbacks_feed_forward\n",
    ")"
   ]
  },
  {
   "cell_type": "code",
   "execution_count": 8,
   "metadata": {
    "collapsed": true
   },
   "outputs": [],
   "source": [
    "def show_images(before_images, after_images):\n",
    "    plt.figure(figsize=(10, 2))\n",
    "    for i in range(10):\n",
    "        # before\n",
    "        plt.subplot(2, 10, i+1)\n",
    "        plt.imshow(before_images[i].reshape(28, 28), cmap='gray')\n",
    "        plt.xticks([])\n",
    "        plt.yticks([])\n",
    "        # after\n",
    "        plt.subplot(2, 10, 10+i+1)\n",
    "        plt.imshow(after_images[i].reshape(28, 28), cmap='gray')\n",
    "        plt.xticks([])\n",
    "        plt.yticks([])\n",
    "    plt.show()"
   ]
  },
  {
   "cell_type": "code",
   "execution_count": 9,
   "metadata": {},
   "outputs": [
    {
     "data": {
      "image/png": "[encoded data removed]",
      "text/plain": [
       "<matplotlib.figure.Figure at 0x7f52b6edce80>"
      ]
     },
     "metadata": {},
     "output_type": "display_data"
    }
   ],
   "source": [
    "X_test_decoded = autoencoder.predict(X_test)\n",
    "\n",
    "show_images(X_test, X_test_decoded)"
   ]
  },
  {
   "cell_type": "code",
   "execution_count": 10,
   "metadata": {},
   "outputs": [],
   "source": [
    "def add_noise(x, noise_factor=0.2):\n",
    "    x = x + np.random.randn(*x.shape) * noise_factor\n",
    "    x = x.clip(0., 1.)\n",
    "    return x\n",
    "    \n",
    "X_train_noisy = add_noise(X_train, 0.5)\n",
    "X_valid_noisy = add_noise(X_valid, 0.5)\n",
    "X_test_noisy  = add_noise(X_test, 0.5)"
   ]
  },
  {
   "cell_type": "code",
   "execution_count": 11,
   "metadata": {},
   "outputs": [
    {
     "name": "stdout",
     "output_type": "stream",
     "text": [
      "_________________________________________________________________\n",
      "Layer (type)                 Output Shape              Param #   \n",
      "=================================================================\n",
      "input_2 (InputLayer)         (None, 28, 28, 1)         0         \n",
      "_________________________________________________________________\n",
      "conv2d_8 (Conv2D)            (None, 28, 28, 16)        160       \n",
      "_________________________________________________________________\n",
      "max_pooling2d_4 (MaxPooling2 (None, 14, 14, 16)        0         \n",
      "_________________________________________________________________\n",
      "conv2d_9 (Conv2D)            (None, 14, 14, 8)         1160      \n",
      "_________________________________________________________________\n",
      "max_pooling2d_5 (MaxPooling2 (None, 7, 7, 8)           0         \n",
      "_________________________________________________________________\n",
      "conv2d_10 (Conv2D)           (None, 7, 7, 8)           584       \n",
      "_________________________________________________________________\n",
      "max_pooling2d_6 (MaxPooling2 (None, 4, 4, 8)           0         \n",
      "_________________________________________________________________\n",
      "conv2d_11 (Conv2D)           (None, 4, 4, 8)           584       \n",
      "_________________________________________________________________\n",
      "up_sampling2d_4 (UpSampling2 (None, 8, 8, 8)           0         \n",
      "_________________________________________________________________\n",
      "conv2d_12 (Conv2D)           (None, 8, 8, 8)           584       \n",
      "_________________________________________________________________\n",
      "up_sampling2d_5 (UpSampling2 (None, 16, 16, 8)         0         \n",
      "_________________________________________________________________\n",
      "conv2d_13 (Conv2D)           (None, 14, 14, 16)        1168      \n",
      "_________________________________________________________________\n",
      "up_sampling2d_6 (UpSampling2 (None, 28, 28, 16)        0         \n",
      "_________________________________________________________________\n",
      "conv2d_14 (Conv2D)           (None, 28, 28, 1)         145       \n",
      "=================================================================\n",
      "Total params: 4,385\n",
      "Trainable params: 4,385\n",
      "Non-trainable params: 0\n",
      "_________________________________________________________________\n",
      "Train on 42000 samples, validate on 18000 samples\n",
      "Epoch 1/50\n",
      "42000/42000 [==============================] - 11s 264us/step - loss: 0.2827 - val_loss: 0.1971\n",
      "Epoch 2/50\n",
      "42000/42000 [==============================] - 11s 256us/step - loss: 0.1818 - val_loss: 0.1707\n",
      "Epoch 3/50\n",
      "42000/42000 [==============================] - 11s 270us/step - loss: 0.1647 - val_loss: 0.1598\n",
      "Epoch 4/50\n",
      "42000/42000 [==============================] - 10s 250us/step - loss: 0.1566 - val_loss: 0.1538\n",
      "Epoch 5/50\n",
      "42000/42000 [==============================] - 11s 255us/step - loss: 0.1515 - val_loss: 0.1500\n",
      "Epoch 6/50\n",
      "42000/42000 [==============================] - 10s 241us/step - loss: 0.1479 - val_loss: 0.1464\n",
      "Epoch 7/50\n",
      "42000/42000 [==============================] - 11s 264us/step - loss: 0.1453 - val_loss: 0.1443\n",
      "Epoch 8/50\n",
      "42000/42000 [==============================] - 12s 286us/step - loss: 0.1430 - val_loss: 0.1421\n",
      "Epoch 9/50\n",
      "42000/42000 [==============================] - 12s 276us/step - loss: 0.1412 - val_loss: 0.1408\n",
      "Epoch 10/50\n",
      "42000/42000 [==============================] - 12s 295us/step - loss: 0.1397 - val_loss: 0.1392\n",
      "Epoch 11/50\n",
      "42000/42000 [==============================] - 13s 303us/step - loss: 0.1381 - val_loss: 0.1393\n",
      "Epoch 12/50\n",
      "42000/42000 [==============================] - 11s 254us/step - loss: 0.1370 - val_loss: 0.1364\n",
      "Epoch 13/50\n",
      "42000/42000 [==============================] - 12s 275us/step - loss: 0.1359 - val_loss: 0.1355\n",
      "Epoch 14/50\n",
      "42000/42000 [==============================] - 12s 275us/step - loss: 0.1348 - val_loss: 0.1358ETA: 4s\n",
      "Epoch 15/50\n",
      "42000/42000 [==============================] - 11s 255us/step - loss: 0.1340 - val_loss: 0.1338\n",
      "Epoch 16/50\n",
      "42000/42000 [==============================] - 11s 272us/step - loss: 0.1329 - val_loss: 0.1335\n",
      "Epoch 17/50\n",
      "42000/42000 [==============================] - 11s 270us/step - loss: 0.1320 - val_loss: 0.1346\n",
      "Epoch 18/50\n",
      "42000/42000 [==============================] - 12s 280us/step - loss: 0.1314 - val_loss: 0.1312\n",
      "Epoch 19/50\n",
      "42000/42000 [==============================] - 11s 273us/step - loss: 0.1307 - val_loss: 0.1317\n",
      "Epoch 20/50\n",
      "42000/42000 [==============================] - 11s 255us/step - loss: 0.1300 - val_loss: 0.1299\n",
      "Epoch 21/50\n",
      "42000/42000 [==============================] - 10s 239us/step - loss: 0.1295 - val_loss: 0.1291\n",
      "Epoch 22/50\n",
      "42000/42000 [==============================] - 10s 244us/step - loss: 0.1288 - val_loss: 0.1289\n",
      "Epoch 23/50\n",
      "42000/42000 [==============================] - 10s 236us/step - loss: 0.1282 - val_loss: 0.1286\n",
      "Epoch 24/50\n",
      "42000/42000 [==============================] - 10s 238us/step - loss: 0.1276 - val_loss: 0.1280\n",
      "Epoch 25/50\n",
      "42000/42000 [==============================] - 10s 239us/step - loss: 0.1271 - val_loss: 0.1280\n",
      "Epoch 26/50\n",
      "42000/42000 [==============================] - 10s 237us/step - loss: 0.1267 - val_loss: 0.1274\n",
      "Epoch 27/50\n",
      "42000/42000 [==============================] - 11s 253us/step - loss: 0.1263 - val_loss: 0.1269\n",
      "Epoch 28/50\n",
      "42000/42000 [==============================] - 12s 281us/step - loss: 0.1259 - val_loss: 0.1269\n",
      "Epoch 29/50\n",
      "42000/42000 [==============================] - 11s 265us/step - loss: 0.1256 - val_loss: 0.1262\n",
      "Epoch 30/50\n",
      "42000/42000 [==============================] - 11s 270us/step - loss: 0.1252 - val_loss: 0.1254\n",
      "Epoch 31/50\n",
      "42000/42000 [==============================] - 11s 254us/step - loss: 0.1248 - val_loss: 0.1254\n",
      "Epoch 32/50\n",
      "42000/42000 [==============================] - 10s 240us/step - loss: 0.1245 - val_loss: 0.1253\n",
      "Epoch 33/50\n",
      "42000/42000 [==============================] - 10s 241us/step - loss: 0.1242 - val_loss: 0.1248\n",
      "Epoch 34/50\n",
      "42000/42000 [==============================] - 10s 234us/step - loss: 0.1239 - val_loss: 0.1242\n",
      "Epoch 35/50\n",
      "42000/42000 [==============================] - 10s 246us/step - loss: 0.1236 - val_loss: 0.1240\n",
      "Epoch 36/50\n",
      "42000/42000 [==============================] - 10s 244us/step - loss: 0.1234 - val_loss: 0.1238\n",
      "Epoch 37/50\n",
      "42000/42000 [==============================] - 10s 241us/step - loss: 0.1232 - val_loss: 0.1243\n",
      "Epoch 38/50\n",
      "42000/42000 [==============================] - 10s 250us/step - loss: 0.1229 - val_loss: 0.1231\n",
      "Epoch 39/50\n",
      "42000/42000 [==============================] - 11s 265us/step - loss: 0.1228 - val_loss: 0.1227\n",
      "Epoch 40/50\n",
      "42000/42000 [==============================] - 11s 271us/step - loss: 0.1224 - val_loss: 0.1232\n",
      "Epoch 41/50\n",
      "42000/42000 [==============================] - 11s 256us/step - loss: 0.1224 - val_loss: 0.1225\n",
      "Epoch 42/50\n",
      "42000/42000 [==============================] - 12s 290us/step - loss: 0.1222 - val_loss: 0.1227\n",
      "Epoch 43/50\n",
      "42000/42000 [==============================] - 11s 250us/step - loss: 0.1219 - val_loss: 0.1223\n",
      "Epoch 44/50\n",
      "42000/42000 [==============================] - 11s 266us/step - loss: 0.1218 - val_loss: 0.1220\n",
      "Epoch 45/50\n",
      "42000/42000 [==============================] - 11s 254us/step - loss: 0.1217 - val_loss: 0.1220\n",
      "Epoch 46/50\n",
      "42000/42000 [==============================] - 10s 239us/step - loss: 0.1216 - val_loss: 0.1217\n",
      "Epoch 47/50\n",
      "42000/42000 [==============================] - 10s 239us/step - loss: 0.1214 - val_loss: 0.1224\n",
      "Epoch 48/50\n",
      "42000/42000 [==============================] - 11s 250us/step - loss: 0.1213 - val_loss: 0.1230\n",
      "Epoch 49/50\n",
      "42000/42000 [==============================] - 11s 258us/step - loss: 0.1211 - val_loss: 0.1218\n",
      "Epoch 50/50\n",
      "42000/42000 [==============================] - 11s 259us/step - loss: 0.1210 - val_loss: 0.1212\n"
     ]
    },
    {
     "data": {
      "text/plain": [
       "<keras.callbacks.History at 0x7f52b6edc4e0>"
      ]
     },
     "execution_count": 11,
     "metadata": {},
     "output_type": "execute_result"
    }
   ],
   "source": [
    "noise_autoencoder = convolutional_autoencoder()\n",
    "noise_autoencoder.fit(X_train_noisy, X_train, epochs=50, batch_size=128, validation_data=(X_valid_noisy, X_valid))"
   ]
  },
  {
   "cell_type": "code",
   "execution_count": 12,
   "metadata": {},
   "outputs": [
    {
     "data": {
      "image/png": "[encoded data removed]",
      "text/plain": [
       "<matplotlib.figure.Figure at 0x7f52a8385400>"
      ]
     },
     "metadata": {},
     "output_type": "display_data"
    }
   ],
   "source": [
    "X_test_decoded = noise_autoencoder.predict(X_test_noisy)\n",
    "\n",
    "show_images(X_test_noisy, X_test_decoded)"
   ]
  }
 ],
 "metadata": {
  "kernelspec": {
   "display_name": "Python 3",
   "language": "python",
   "name": "python3"
  },
  "language_info": {
   "codemirror_mode": {
    "name": "ipython",
    "version": 3
   },
   "file_extension": ".py",
   "mimetype": "text/x-python",
   "name": "python",
   "nbconvert_exporter": "python",
   "pygments_lexer": "ipython3",
   "version": "3.5.4"
  }
 },
 "nbformat": 4,
 "nbformat_minor": 2
}
