{
 "cells": [
  {
   "cell_type": "markdown",
   "metadata": {},
   "source": [
    "# Keras and Autoencoder\n",
    "\n",
    "This code is based on this notebook https://github.com/naokishibuya/deep-learning/blob/master/python/autoencoder_noise_reduction.ipynb\n",
    "\n",
    "Another cool tutorial https://blog.keras.io/building-autoencoders-in-keras.html\n",
    "\n",
    "In case you don't know anything about CNNs https://adeshpande3.github.io/adeshpande3.github.io/A-Beginner%27s-Guide-To-Understanding-Convolutional-Neural-Networks/"
   ]
  },
  {
   "cell_type": "code",
   "execution_count": 1,
   "metadata": {},
   "outputs": [
    {
     "name": "stderr",
     "output_type": "stream",
     "text": [
      "Using TensorFlow backend.\n"
     ]
    }
   ],
   "source": [
    "import numpy as np\n",
    "import keras\n",
    "from keras.layers import Input, Dense, Conv2D, MaxPooling2D, UpSampling2D\n",
    "from keras.models import Model\n",
    "from keras.callbacks import ModelCheckpoint, Callback, EarlyStopping, TensorBoard\n",
    "from sklearn.model_selection import train_test_split\n",
    "import matplotlib.pyplot as plt\n",
    "%matplotlib inline"
   ]
  },
  {
   "cell_type": "markdown",
   "metadata": {},
   "source": [
    "## MNIST\n",
    "\n",
    "Database for handwritten digits made by Yann Lecun"
   ]
  },
  {
   "cell_type": "code",
   "execution_count": 2,
   "metadata": {
    "collapsed": true
   },
   "outputs": [],
   "source": [
    "(X_train, _), (X_test, _) = keras.datasets.mnist.load_data()"
   ]
  },
  {
   "cell_type": "code",
   "execution_count": 3,
   "metadata": {},
   "outputs": [
    {
     "data": {
      "image/png": "[encoded data removed]",
      "text/plain": [
       "<matplotlib.figure.Figure at 0x7f6670028dd8>"
      ]
     },
     "metadata": {},
     "output_type": "display_data"
    }
   ],
   "source": [
    "plt.figure(figsize=(10, 5))\n",
    "for i in range(10):\n",
    "    plt.subplot(1, 10, i+1)\n",
    "    plt.imshow(X_train[i], cmap='gray')\n",
    "    plt.xticks([])\n",
    "    plt.yticks([])\n",
    "plt.show()"
   ]
  },
  {
   "cell_type": "code",
   "execution_count": 4,
   "metadata": {
    "collapsed": true
   },
   "outputs": [],
   "source": [
    "def preprocess(x):\n",
    "    x = x.astype('float32') / 255.\n",
    "    return x.reshape(-1, np.prod(x.shape[1:])) # flatten\n",
    "\n",
    "X_train = preprocess(X_train)\n",
    "X_test  = preprocess(X_test)\n",
    "\n",
    "# also create a validation set for training\n",
    "X_train, X_valid = train_test_split(X_train, test_size=0.3)"
   ]
  },
  {
   "cell_type": "markdown",
   "metadata": {},
   "source": [
    "## Convolutional Autoencoder\n",
    "\n",
    "Let's present what is an autoencoder\n",
    "\n",
    "<img src=\"https://cdn-images-1.medium.com/max/1000/1*j_y0bNZLP1yzqtyF48Z3Ug.png\">\n",
    "\n",
    "\n",
    "Now we are going to define our model"
   ]
  },
  {
   "cell_type": "code",
   "execution_count": 5,
   "metadata": {
    "collapsed": true
   },
   "outputs": [],
   "source": [
    "n_epochs = 100\n",
    "batch_size = 128"
   ]
  },
  {
   "cell_type": "code",
   "execution_count": 6,
   "metadata": {
    "collapsed": true
   },
   "outputs": [],
   "source": [
    "def convolutional_autoencoder():\n",
    "    # encoding\n",
    "    input_img = Input(shape=(28, 28, 1))  # adapt this if using `channels_first` image data format\n",
    "    x = Conv2D(32, (3, 3), activation='relu', padding='same')(input_img)\n",
    "    x = MaxPooling2D((2, 2), padding='same')(x)\n",
    "    x = Conv2D(32, (3, 3), activation='relu', padding='same')(x)\n",
    "    encoded = MaxPooling2D((2, 2), padding='same')(x)\n",
    "    \n",
    "    # decoding\n",
    "    x = Conv2D(32, (3, 3), activation='relu', padding='same')(encoded)\n",
    "    x = UpSampling2D((2, 2))(x)\n",
    "    x = Conv2D(32, (3, 3), activation='relu', padding='same')(x)\n",
    "    x = UpSampling2D((2, 2))(x)\n",
    "    decoded = Conv2D(1, (3, 3), activation='sigmoid', padding='same')(x)\n",
    "    \n",
    "    # autoencoder\n",
    "    autoencoder = Model(input_img, decoded)\n",
    "    autoencoder.compile(optimizer='adam', loss='binary_crossentropy')\n",
    "    autoencoder.summary()\n",
    "    \n",
    "    return autoencoder\n",
    "\n",
    "def get_callbacks(model_filepath, log_dir, patience=10):\n",
    "    earlystopping = EarlyStopping('val_loss', patience=patience, mode=\"min\")\n",
    "    checkpointer = ModelCheckpoint(filepath=model_filepath,\n",
    "                               verbose=0,\n",
    "                               save_best_only=True)\n",
    "    tensorboard = TensorBoard(log_dir=log_dir,\n",
    "                              histogram_freq=0,\n",
    "                              write_graph=True,\n",
    "                              write_images=True)\n",
    "    return [earlystopping, checkpointer, tensorboard]\n",
    "\n",
    "file_path_feed_forward = \".model_weights_conv_autoe.hdf5\"\n",
    "log_dir_feed_forward = './logs/conv_autoe'\n",
    "callbacks_feed_forward = get_callbacks(file_path_feed_forward, log_dir_feed_forward, patience=10)"
   ]
  },
  {
   "cell_type": "markdown",
   "metadata": {},
   "source": [
    "Before anything, we need reshape our data to the format that our model expects."
   ]
  },
  {
   "cell_type": "code",
   "execution_count": 7,
   "metadata": {
    "collapsed": true
   },
   "outputs": [],
   "source": [
    "X_train = X_train.reshape(-1, 28, 28, 1)\n",
    "X_valid = X_valid.reshape(-1, 28, 28, 1)\n",
    "X_test  = X_test.reshape(-1, 28, 28, 1)"
   ]
  },
  {
   "cell_type": "code",
   "execution_count": 8,
   "metadata": {},
   "outputs": [
    {
     "name": "stdout",
     "output_type": "stream",
     "text": [
      "_________________________________________________________________\n",
      "Layer (type)                 Output Shape              Param #   \n",
      "=================================================================\n",
      "input_1 (InputLayer)         (None, 28, 28, 1)         0         \n",
      "_________________________________________________________________\n",
      "conv2d_1 (Conv2D)            (None, 28, 28, 32)        320       \n",
      "_________________________________________________________________\n",
      "max_pooling2d_1 (MaxPooling2 (None, 14, 14, 32)        0         \n",
      "_________________________________________________________________\n",
      "conv2d_2 (Conv2D)            (None, 14, 14, 32)        9248      \n",
      "_________________________________________________________________\n",
      "max_pooling2d_2 (MaxPooling2 (None, 7, 7, 32)          0         \n",
      "_________________________________________________________________\n",
      "conv2d_3 (Conv2D)            (None, 7, 7, 32)          9248      \n",
      "_________________________________________________________________\n",
      "up_sampling2d_1 (UpSampling2 (None, 14, 14, 32)        0         \n",
      "_________________________________________________________________\n",
      "conv2d_4 (Conv2D)            (None, 14, 14, 32)        9248      \n",
      "_________________________________________________________________\n",
      "up_sampling2d_2 (UpSampling2 (None, 28, 28, 32)        0         \n",
      "_________________________________________________________________\n",
      "conv2d_5 (Conv2D)            (None, 28, 28, 1)         289       \n",
      "=================================================================\n",
      "Total params: 28,353\n",
      "Trainable params: 28,353\n",
      "Non-trainable params: 0\n",
      "_________________________________________________________________\n",
      "Train on 42000 samples, validate on 18000 samples\n",
      "Epoch 1/100\n",
      "42000/42000 [==============================] - 5s 111us/step - loss: 0.1303 - val_loss: 0.0794\n",
      "Epoch 2/100\n",
      "42000/42000 [==============================] - 3s 79us/step - loss: 0.0760 - val_loss: 0.0741\n",
      "Epoch 3/100\n",
      "42000/42000 [==============================] - 3s 80us/step - loss: 0.0727 - val_loss: 0.0720\n",
      "Epoch 4/100\n",
      "42000/42000 [==============================] - 3s 81us/step - loss: 0.0711 - val_loss: 0.0710\n",
      "Epoch 5/100\n",
      "42000/42000 [==============================] - 3s 82us/step - loss: 0.0700 - val_loss: 0.0697\n",
      "Epoch 6/100\n",
      "42000/42000 [==============================] - 3s 82us/step - loss: 0.0692 - val_loss: 0.0691\n",
      "Epoch 7/100\n",
      "42000/42000 [==============================] - 3s 83us/step - loss: 0.0686 - val_loss: 0.0685\n",
      "Epoch 8/100\n",
      "42000/42000 [==============================] - 3s 82us/step - loss: 0.0680 - val_loss: 0.0679\n",
      "Epoch 9/100\n",
      "42000/42000 [==============================] - 3s 83us/step - loss: 0.0676 - val_loss: 0.0675\n",
      "Epoch 10/100\n",
      "42000/42000 [==============================] - 3s 82us/step - loss: 0.0672 - val_loss: 0.0673\n",
      "Epoch 11/100\n",
      "42000/42000 [==============================] - 3s 82us/step - loss: 0.0669 - val_loss: 0.0672\n",
      "Epoch 12/100\n",
      "42000/42000 [==============================] - 3s 82us/step - loss: 0.0666 - val_loss: 0.0667\n",
      "Epoch 13/100\n",
      "42000/42000 [==============================] - 3s 82us/step - loss: 0.0664 - val_loss: 0.0667\n",
      "Epoch 14/100\n",
      "42000/42000 [==============================] - 3s 82us/step - loss: 0.0662 - val_loss: 0.0664\n",
      "Epoch 15/100\n",
      "42000/42000 [==============================] - 3s 82us/step - loss: 0.0660 - val_loss: 0.0660\n",
      "Epoch 16/100\n",
      "42000/42000 [==============================] - 3s 81us/step - loss: 0.0658 - val_loss: 0.0659\n",
      "Epoch 17/100\n",
      "42000/42000 [==============================] - 3s 82us/step - loss: 0.0656 - val_loss: 0.0659\n",
      "Epoch 18/100\n",
      "42000/42000 [==============================] - 3s 81us/step - loss: 0.0655 - val_loss: 0.0657\n",
      "Epoch 19/100\n",
      "42000/42000 [==============================] - 3s 81us/step - loss: 0.0654 - val_loss: 0.0656\n",
      "Epoch 20/100\n",
      "42000/42000 [==============================] - 3s 81us/step - loss: 0.0652 - val_loss: 0.0654\n",
      "Epoch 21/100\n",
      "42000/42000 [==============================] - 3s 81us/step - loss: 0.0651 - val_loss: 0.0654\n",
      "Epoch 22/100\n",
      "42000/42000 [==============================] - 3s 82us/step - loss: 0.0650 - val_loss: 0.0652\n",
      "Epoch 23/100\n",
      "42000/42000 [==============================] - 3s 80us/step - loss: 0.0649 - val_loss: 0.0652\n",
      "Epoch 24/100\n",
      "42000/42000 [==============================] - 3s 81us/step - loss: 0.0648 - val_loss: 0.0650\n",
      "Epoch 25/100\n",
      "42000/42000 [==============================] - 3s 80us/step - loss: 0.0647 - val_loss: 0.0649\n",
      "Epoch 26/100\n",
      "42000/42000 [==============================] - 3s 80us/step - loss: 0.0646 - val_loss: 0.0649\n",
      "Epoch 27/100\n",
      "42000/42000 [==============================] - 3s 79us/step - loss: 0.0646 - val_loss: 0.0650\n",
      "Epoch 28/100\n",
      "42000/42000 [==============================] - 3s 80us/step - loss: 0.0645 - val_loss: 0.0649\n",
      "Epoch 29/100\n",
      "42000/42000 [==============================] - 3s 80us/step - loss: 0.0644 - val_loss: 0.0646\n",
      "Epoch 30/100\n",
      "42000/42000 [==============================] - 3s 80us/step - loss: 0.0643 - val_loss: 0.0646\n",
      "Epoch 31/100\n",
      "42000/42000 [==============================] - 3s 80us/step - loss: 0.0643 - val_loss: 0.0645\n",
      "Epoch 32/100\n",
      "42000/42000 [==============================] - 3s 78us/step - loss: 0.0642 - val_loss: 0.0648\n",
      "Epoch 33/100\n",
      "42000/42000 [==============================] - 3s 79us/step - loss: 0.0642 - val_loss: 0.0644\n",
      "Epoch 34/100\n",
      "42000/42000 [==============================] - 3s 78us/step - loss: 0.0641 - val_loss: 0.0645\n",
      "Epoch 35/100\n",
      "42000/42000 [==============================] - 3s 78us/step - loss: 0.0641 - val_loss: 0.0643\n",
      "Epoch 36/100\n",
      "42000/42000 [==============================] - 3s 78us/step - loss: 0.0640 - val_loss: 0.0644\n",
      "Epoch 37/100\n",
      "42000/42000 [==============================] - 3s 78us/step - loss: 0.0640 - val_loss: 0.0642\n",
      "Epoch 38/100\n",
      "42000/42000 [==============================] - 3s 78us/step - loss: 0.0639 - val_loss: 0.0643\n",
      "Epoch 39/100\n",
      "42000/42000 [==============================] - 3s 78us/step - loss: 0.0639 - val_loss: 0.0641\n",
      "Epoch 40/100\n",
      "42000/42000 [==============================] - 3s 77us/step - loss: 0.0638 - val_loss: 0.0641\n",
      "Epoch 41/100\n",
      "42000/42000 [==============================] - 3s 77us/step - loss: 0.0638 - val_loss: 0.0642\n",
      "Epoch 42/100\n",
      "42000/42000 [==============================] - 3s 77us/step - loss: 0.0637 - val_loss: 0.0640\n",
      "Epoch 43/100\n",
      "42000/42000 [==============================] - 3s 78us/step - loss: 0.0637 - val_loss: 0.0640\n",
      "Epoch 44/100\n",
      "42000/42000 [==============================] - 3s 76us/step - loss: 0.0637 - val_loss: 0.0640\n",
      "Epoch 45/100\n",
      "42000/42000 [==============================] - 3s 76us/step - loss: 0.0637 - val_loss: 0.0640\n",
      "Epoch 46/100\n",
      "42000/42000 [==============================] - 3s 77us/step - loss: 0.0636 - val_loss: 0.0639\n",
      "Epoch 47/100\n",
      "42000/42000 [==============================] - 3s 77us/step - loss: 0.0636 - val_loss: 0.0639\n",
      "Epoch 48/100\n",
      "42000/42000 [==============================] - 3s 77us/step - loss: 0.0636 - val_loss: 0.0639\n",
      "Epoch 49/100\n",
      "42000/42000 [==============================] - 3s 76us/step - loss: 0.0635 - val_loss: 0.0638\n",
      "Epoch 50/100\n",
      "42000/42000 [==============================] - 3s 77us/step - loss: 0.0635 - val_loss: 0.0639\n",
      "Epoch 51/100\n",
      "42000/42000 [==============================] - 3s 77us/step - loss: 0.0635 - val_loss: 0.0638\n",
      "Epoch 52/100\n",
      "42000/42000 [==============================] - 3s 76us/step - loss: 0.0635 - val_loss: 0.0639\n",
      "Epoch 53/100\n",
      "42000/42000 [==============================] - 3s 77us/step - loss: 0.0634 - val_loss: 0.0637\n",
      "Epoch 54/100\n",
      "42000/42000 [==============================] - 3s 77us/step - loss: 0.0634 - val_loss: 0.0638\n",
      "Epoch 55/100\n",
      "42000/42000 [==============================] - 3s 77us/step - loss: 0.0634 - val_loss: 0.0637\n",
      "Epoch 56/100\n",
      "42000/42000 [==============================] - 3s 77us/step - loss: 0.0634 - val_loss: 0.0636\n",
      "Epoch 57/100\n",
      "42000/42000 [==============================] - 3s 76us/step - loss: 0.0634 - val_loss: 0.0637\n",
      "Epoch 58/100\n",
      "42000/42000 [==============================] - 3s 76us/step - loss: 0.0633 - val_loss: 0.0638\n",
      "Epoch 59/100\n",
      "42000/42000 [==============================] - 3s 77us/step - loss: 0.0633 - val_loss: 0.0636\n",
      "Epoch 60/100\n",
      "42000/42000 [==============================] - 3s 76us/step - loss: 0.0633 - val_loss: 0.0636\n",
      "Epoch 61/100\n"
     ]
    },
    {
     "name": "stdout",
     "output_type": "stream",
     "text": [
      "42000/42000 [==============================] - 3s 77us/step - loss: 0.0633 - val_loss: 0.0635\n",
      "Epoch 62/100\n",
      "42000/42000 [==============================] - 3s 76us/step - loss: 0.0632 - val_loss: 0.0635\n",
      "Epoch 63/100\n",
      "42000/42000 [==============================] - 3s 75us/step - loss: 0.0632 - val_loss: 0.0636\n",
      "Epoch 64/100\n",
      "42000/42000 [==============================] - 3s 76us/step - loss: 0.0632 - val_loss: 0.0635\n",
      "Epoch 65/100\n",
      "42000/42000 [==============================] - 3s 76us/step - loss: 0.0632 - val_loss: 0.0638\n",
      "Epoch 66/100\n",
      "42000/42000 [==============================] - 3s 76us/step - loss: 0.0632 - val_loss: 0.0637\n",
      "Epoch 67/100\n",
      "42000/42000 [==============================] - 3s 76us/step - loss: 0.0632 - val_loss: 0.0634\n",
      "Epoch 68/100\n",
      "42000/42000 [==============================] - 3s 76us/step - loss: 0.0632 - val_loss: 0.0637\n",
      "Epoch 69/100\n",
      "42000/42000 [==============================] - 3s 77us/step - loss: 0.0631 - val_loss: 0.0634\n",
      "Epoch 70/100\n",
      "42000/42000 [==============================] - 3s 76us/step - loss: 0.0631 - val_loss: 0.0634\n",
      "Epoch 71/100\n",
      "42000/42000 [==============================] - 3s 76us/step - loss: 0.0631 - val_loss: 0.0634\n",
      "Epoch 72/100\n",
      "42000/42000 [==============================] - 3s 77us/step - loss: 0.0631 - val_loss: 0.0635\n",
      "Epoch 73/100\n",
      "42000/42000 [==============================] - 3s 76us/step - loss: 0.0631 - val_loss: 0.0634\n",
      "Epoch 74/100\n",
      "42000/42000 [==============================] - 3s 77us/step - loss: 0.0631 - val_loss: 0.0635\n",
      "Epoch 75/100\n",
      "42000/42000 [==============================] - 3s 77us/step - loss: 0.0630 - val_loss: 0.0633\n",
      "Epoch 76/100\n",
      "42000/42000 [==============================] - 3s 77us/step - loss: 0.0630 - val_loss: 0.0633\n",
      "Epoch 77/100\n",
      "42000/42000 [==============================] - 3s 75us/step - loss: 0.0630 - val_loss: 0.0635\n",
      "Epoch 78/100\n",
      "42000/42000 [==============================] - 3s 76us/step - loss: 0.0630 - val_loss: 0.0633\n",
      "Epoch 79/100\n",
      "42000/42000 [==============================] - 3s 76us/step - loss: 0.0630 - val_loss: 0.0634\n",
      "Epoch 80/100\n",
      "42000/42000 [==============================] - 3s 76us/step - loss: 0.0630 - val_loss: 0.0634\n",
      "Epoch 81/100\n",
      "42000/42000 [==============================] - 3s 76us/step - loss: 0.0630 - val_loss: 0.0633\n",
      "Epoch 82/100\n",
      "42000/42000 [==============================] - 3s 77us/step - loss: 0.0630 - val_loss: 0.0632\n",
      "Epoch 83/100\n",
      "42000/42000 [==============================] - 3s 76us/step - loss: 0.0630 - val_loss: 0.0633\n",
      "Epoch 84/100\n",
      "42000/42000 [==============================] - 3s 76us/step - loss: 0.0629 - val_loss: 0.0632\n",
      "Epoch 85/100\n",
      "42000/42000 [==============================] - 3s 76us/step - loss: 0.0629 - val_loss: 0.0633\n",
      "Epoch 86/100\n",
      "42000/42000 [==============================] - 3s 76us/step - loss: 0.0629 - val_loss: 0.0632\n",
      "Epoch 87/100\n",
      "42000/42000 [==============================] - 3s 76us/step - loss: 0.0629 - val_loss: 0.0634\n",
      "Epoch 88/100\n",
      "42000/42000 [==============================] - 3s 76us/step - loss: 0.0629 - val_loss: 0.0633\n",
      "Epoch 89/100\n",
      "42000/42000 [==============================] - 3s 76us/step - loss: 0.0629 - val_loss: 0.0632\n",
      "Epoch 90/100\n",
      "42000/42000 [==============================] - 3s 75us/step - loss: 0.0629 - val_loss: 0.0632\n",
      "Epoch 91/100\n",
      "42000/42000 [==============================] - 3s 77us/step - loss: 0.0629 - val_loss: 0.0631\n",
      "Epoch 92/100\n",
      "42000/42000 [==============================] - 3s 77us/step - loss: 0.0629 - val_loss: 0.0631\n",
      "Epoch 93/100\n",
      "42000/42000 [==============================] - 3s 76us/step - loss: 0.0629 - val_loss: 0.0634\n",
      "Epoch 94/100\n",
      "42000/42000 [==============================] - 3s 76us/step - loss: 0.0628 - val_loss: 0.0633\n",
      "Epoch 95/100\n",
      "42000/42000 [==============================] - 3s 76us/step - loss: 0.0628 - val_loss: 0.0631\n",
      "Epoch 96/100\n",
      "42000/42000 [==============================] - 3s 76us/step - loss: 0.0628 - val_loss: 0.0631\n",
      "Epoch 97/100\n",
      "42000/42000 [==============================] - 3s 76us/step - loss: 0.0628 - val_loss: 0.0630\n",
      "Epoch 98/100\n",
      "42000/42000 [==============================] - 3s 76us/step - loss: 0.0628 - val_loss: 0.0630\n",
      "Epoch 99/100\n",
      "42000/42000 [==============================] - 3s 76us/step - loss: 0.0628 - val_loss: 0.0631\n",
      "Epoch 100/100\n",
      "42000/42000 [==============================] - 3s 75us/step - loss: 0.0628 - val_loss: 0.0631\n"
     ]
    },
    {
     "data": {
      "text/plain": [
       "<keras.callbacks.History at 0x7f66325a3940>"
      ]
     },
     "execution_count": 8,
     "metadata": {},
     "output_type": "execute_result"
    }
   ],
   "source": [
    "autoencoder = convolutional_autoencoder()\n",
    "autoencoder.fit(\n",
    "    X_train, X_train, \n",
    "    epochs=n_epochs, \n",
    "    batch_size=batch_size, \n",
    "    validation_data=(X_valid, X_valid), \n",
    "    callbacks=callbacks_feed_forward\n",
    ")"
   ]
  },
  {
   "cell_type": "code",
   "execution_count": 9,
   "metadata": {
    "collapsed": true
   },
   "outputs": [],
   "source": [
    "def show_images(before_images, after_images):\n",
    "    plt.figure(figsize=(10, 2))\n",
    "    for i in range(10):\n",
    "        # before\n",
    "        plt.subplot(2, 10, i+1)\n",
    "        plt.imshow(before_images[i].reshape(28, 28), cmap='gray')\n",
    "        plt.xticks([])\n",
    "        plt.yticks([])\n",
    "        # after\n",
    "        plt.subplot(2, 10, 10+i+1)\n",
    "        plt.imshow(after_images[i].reshape(28, 28), cmap='gray')\n",
    "        plt.xticks([])\n",
    "        plt.yticks([])\n",
    "    plt.show()"
   ]
  },
  {
   "cell_type": "code",
   "execution_count": 10,
   "metadata": {},
   "outputs": [
    {
     "data": {
      "image/png": "[encoded data removed]",
      "text/plain": [
       "<matplotlib.figure.Figure at 0x7f6632271cc0>"
      ]
     },
     "metadata": {},
     "output_type": "display_data"
    }
   ],
   "source": [
    "X_test_decoded = autoencoder.predict(X_test)\n",
    "\n",
    "show_images(X_test, X_test_decoded)"
   ]
  },
  {
   "cell_type": "code",
   "execution_count": 11,
   "metadata": {
    "collapsed": true
   },
   "outputs": [],
   "source": [
    "def add_noise(x, noise_factor=0.2):\n",
    "    x = x + np.random.randn(*x.shape) * noise_factor\n",
    "    x = x.clip(0., 1.)\n",
    "    return x\n",
    "    \n",
    "X_train_noisy = add_noise(X_train, 0.5)\n",
    "X_valid_noisy = add_noise(X_valid, 0.5)\n",
    "X_test_noisy  = add_noise(X_test, 0.5)"
   ]
  },
  {
   "cell_type": "code",
   "execution_count": 12,
   "metadata": {},
   "outputs": [
    {
     "name": "stdout",
     "output_type": "stream",
     "text": [
      "_________________________________________________________________\n",
      "Layer (type)                 Output Shape              Param #   \n",
      "=================================================================\n",
      "input_2 (InputLayer)         (None, 28, 28, 1)         0         \n",
      "_________________________________________________________________\n",
      "conv2d_6 (Conv2D)            (None, 28, 28, 32)        320       \n",
      "_________________________________________________________________\n",
      "max_pooling2d_3 (MaxPooling2 (None, 14, 14, 32)        0         \n",
      "_________________________________________________________________\n",
      "conv2d_7 (Conv2D)            (None, 14, 14, 32)        9248      \n",
      "_________________________________________________________________\n",
      "max_pooling2d_4 (MaxPooling2 (None, 7, 7, 32)          0         \n",
      "_________________________________________________________________\n",
      "conv2d_8 (Conv2D)            (None, 7, 7, 32)          9248      \n",
      "_________________________________________________________________\n",
      "up_sampling2d_3 (UpSampling2 (None, 14, 14, 32)        0         \n",
      "_________________________________________________________________\n",
      "conv2d_9 (Conv2D)            (None, 14, 14, 32)        9248      \n",
      "_________________________________________________________________\n",
      "up_sampling2d_4 (UpSampling2 (None, 28, 28, 32)        0         \n",
      "_________________________________________________________________\n",
      "conv2d_10 (Conv2D)           (None, 28, 28, 1)         289       \n",
      "=================================================================\n",
      "Total params: 28,353\n",
      "Trainable params: 28,353\n",
      "Non-trainable params: 0\n",
      "_________________________________________________________________\n",
      "Train on 42000 samples, validate on 18000 samples\n",
      "Epoch 1/100\n",
      "42000/42000 [==============================] - 4s 101us/step - loss: 0.1807 - val_loss: 0.1270\n",
      "Epoch 2/100\n",
      "42000/42000 [==============================] - 4s 90us/step - loss: 0.1177 - val_loss: 0.1149\n",
      "Epoch 3/100\n",
      "42000/42000 [==============================] - 4s 90us/step - loss: 0.1111 - val_loss: 0.1102\n",
      "Epoch 4/100\n",
      "42000/42000 [==============================] - 4s 90us/step - loss: 0.1076 - val_loss: 0.1065\n",
      "Epoch 5/100\n",
      "42000/42000 [==============================] - 4s 91us/step - loss: 0.1052 - val_loss: 0.1047\n",
      "Epoch 6/100\n",
      "42000/42000 [==============================] - 4s 91us/step - loss: 0.1035 - val_loss: 0.1033\n",
      "Epoch 7/100\n",
      "42000/42000 [==============================] - 4s 91us/step - loss: 0.1022 - val_loss: 0.1020\n",
      "Epoch 8/100\n",
      "42000/42000 [==============================] - 4s 91us/step - loss: 0.1011 - val_loss: 0.1015\n",
      "Epoch 9/100\n",
      "42000/42000 [==============================] - 4s 91us/step - loss: 0.1002 - val_loss: 0.1011\n",
      "Epoch 10/100\n",
      "42000/42000 [==============================] - 4s 92us/step - loss: 0.0996 - val_loss: 0.0997\n",
      "Epoch 11/100\n",
      "42000/42000 [==============================] - 4s 91us/step - loss: 0.0990 - val_loss: 0.0993\n",
      "Epoch 12/100\n",
      "42000/42000 [==============================] - 4s 91us/step - loss: 0.0985 - val_loss: 0.0989\n",
      "Epoch 13/100\n",
      "42000/42000 [==============================] - 4s 91us/step - loss: 0.0981 - val_loss: 0.0987\n",
      "Epoch 14/100\n",
      "42000/42000 [==============================] - 4s 90us/step - loss: 0.0977 - val_loss: 0.0982\n",
      "Epoch 15/100\n",
      "42000/42000 [==============================] - 4s 91us/step - loss: 0.0974 - val_loss: 0.0987\n",
      "Epoch 16/100\n",
      "42000/42000 [==============================] - 4s 91us/step - loss: 0.0971 - val_loss: 0.0984\n",
      "Epoch 17/100\n",
      "42000/42000 [==============================] - 4s 90us/step - loss: 0.0968 - val_loss: 0.0974\n",
      "Epoch 18/100\n",
      "42000/42000 [==============================] - 4s 91us/step - loss: 0.0966 - val_loss: 0.0972\n",
      "Epoch 19/100\n",
      "42000/42000 [==============================] - 4s 90us/step - loss: 0.0964 - val_loss: 0.0972\n",
      "Epoch 20/100\n",
      "42000/42000 [==============================] - 4s 90us/step - loss: 0.0962 - val_loss: 0.0970\n",
      "Epoch 21/100\n",
      "42000/42000 [==============================] - 4s 91us/step - loss: 0.0961 - val_loss: 0.0972\n",
      "Epoch 22/100\n",
      "42000/42000 [==============================] - 4s 91us/step - loss: 0.0958 - val_loss: 0.0967\n",
      "Epoch 23/100\n",
      "42000/42000 [==============================] - 4s 91us/step - loss: 0.0957 - val_loss: 0.0968\n",
      "Epoch 24/100\n",
      "42000/42000 [==============================] - 4s 91us/step - loss: 0.0956 - val_loss: 0.0963\n",
      "Epoch 25/100\n",
      "42000/42000 [==============================] - 4s 91us/step - loss: 0.0954 - val_loss: 0.0963\n",
      "Epoch 26/100\n",
      "42000/42000 [==============================] - 4s 90us/step - loss: 0.0953 - val_loss: 0.0963\n",
      "Epoch 27/100\n",
      "42000/42000 [==============================] - 4s 90us/step - loss: 0.0952 - val_loss: 0.0961\n",
      "Epoch 28/100\n",
      "42000/42000 [==============================] - 4s 90us/step - loss: 0.0951 - val_loss: 0.0961\n",
      "Epoch 29/100\n",
      "42000/42000 [==============================] - 4s 91us/step - loss: 0.0950 - val_loss: 0.0959\n",
      "Epoch 30/100\n",
      "42000/42000 [==============================] - 4s 90us/step - loss: 0.0949 - val_loss: 0.0958\n",
      "Epoch 31/100\n",
      "42000/42000 [==============================] - 4s 90us/step - loss: 0.0948 - val_loss: 0.0959\n",
      "Epoch 32/100\n",
      "42000/42000 [==============================] - 4s 91us/step - loss: 0.0948 - val_loss: 0.0976\n",
      "Epoch 33/100\n",
      "42000/42000 [==============================] - 4s 90us/step - loss: 0.0947 - val_loss: 0.0957\n",
      "Epoch 34/100\n",
      "42000/42000 [==============================] - 4s 90us/step - loss: 0.0946 - val_loss: 0.0955\n",
      "Epoch 35/100\n",
      "42000/42000 [==============================] - 4s 90us/step - loss: 0.0945 - val_loss: 0.0960\n",
      "Epoch 36/100\n",
      "42000/42000 [==============================] - 4s 90us/step - loss: 0.0945 - val_loss: 0.0955\n",
      "Epoch 37/100\n",
      "42000/42000 [==============================] - 4s 90us/step - loss: 0.0944 - val_loss: 0.0957\n",
      "Epoch 38/100\n",
      "42000/42000 [==============================] - 4s 91us/step - loss: 0.0944 - val_loss: 0.0953\n",
      "Epoch 39/100\n",
      "42000/42000 [==============================] - 4s 91us/step - loss: 0.0943 - val_loss: 0.0953\n",
      "Epoch 40/100\n",
      "42000/42000 [==============================] - 4s 90us/step - loss: 0.0942 - val_loss: 0.0964\n",
      "Epoch 41/100\n",
      "42000/42000 [==============================] - 4s 90us/step - loss: 0.0942 - val_loss: 0.0960\n",
      "Epoch 42/100\n",
      "42000/42000 [==============================] - 4s 91us/step - loss: 0.0942 - val_loss: 0.0959\n",
      "Epoch 43/100\n",
      "42000/42000 [==============================] - 4s 90us/step - loss: 0.0941 - val_loss: 0.0955\n",
      "Epoch 44/100\n",
      "42000/42000 [==============================] - 4s 91us/step - loss: 0.0941 - val_loss: 0.0952\n",
      "Epoch 45/100\n",
      "42000/42000 [==============================] - 4s 90us/step - loss: 0.0940 - val_loss: 0.0957\n",
      "Epoch 46/100\n",
      "42000/42000 [==============================] - 4s 90us/step - loss: 0.0940 - val_loss: 0.0957\n",
      "Epoch 47/100\n",
      "42000/42000 [==============================] - 4s 90us/step - loss: 0.0939 - val_loss: 0.0951\n",
      "Epoch 48/100\n",
      "42000/42000 [==============================] - 4s 90us/step - loss: 0.0940 - val_loss: 0.0950\n",
      "Epoch 49/100\n",
      "42000/42000 [==============================] - 4s 90us/step - loss: 0.0939 - val_loss: 0.0952\n",
      "Epoch 50/100\n",
      "42000/42000 [==============================] - 4s 90us/step - loss: 0.0938 - val_loss: 0.0953\n",
      "Epoch 51/100\n",
      "42000/42000 [==============================] - 4s 91us/step - loss: 0.0938 - val_loss: 0.0952\n",
      "Epoch 52/100\n",
      "42000/42000 [==============================] - 4s 90us/step - loss: 0.0938 - val_loss: 0.0954\n",
      "Epoch 53/100\n",
      "42000/42000 [==============================] - 4s 90us/step - loss: 0.0938 - val_loss: 0.0965\n",
      "Epoch 54/100\n",
      "42000/42000 [==============================] - 4s 90us/step - loss: 0.0937 - val_loss: 0.0951\n",
      "Epoch 55/100\n",
      "42000/42000 [==============================] - 4s 90us/step - loss: 0.0937 - val_loss: 0.0949\n",
      "Epoch 56/100\n",
      "42000/42000 [==============================] - 4s 90us/step - loss: 0.0937 - val_loss: 0.0955\n",
      "Epoch 57/100\n",
      "42000/42000 [==============================] - 4s 91us/step - loss: 0.0936 - val_loss: 0.0950\n",
      "Epoch 58/100\n",
      "42000/42000 [==============================] - 4s 90us/step - loss: 0.0936 - val_loss: 0.0957\n",
      "Epoch 59/100\n",
      "42000/42000 [==============================] - 4s 91us/step - loss: 0.0936 - val_loss: 0.0952\n",
      "Epoch 60/100\n",
      "42000/42000 [==============================] - 4s 90us/step - loss: 0.0935 - val_loss: 0.0947\n",
      "Epoch 61/100\n"
     ]
    },
    {
     "name": "stdout",
     "output_type": "stream",
     "text": [
      "42000/42000 [==============================] - 4s 91us/step - loss: 0.0935 - val_loss: 0.0951\n",
      "Epoch 62/100\n",
      "42000/42000 [==============================] - 4s 90us/step - loss: 0.0935 - val_loss: 0.0947\n",
      "Epoch 63/100\n",
      "42000/42000 [==============================] - 4s 90us/step - loss: 0.0935 - val_loss: 0.0948\n",
      "Epoch 64/100\n",
      "42000/42000 [==============================] - 4s 91us/step - loss: 0.0935 - val_loss: 0.0948\n",
      "Epoch 65/100\n",
      "42000/42000 [==============================] - 4s 90us/step - loss: 0.0935 - val_loss: 0.0953\n",
      "Epoch 66/100\n",
      "42000/42000 [==============================] - 4s 90us/step - loss: 0.0934 - val_loss: 0.0948\n",
      "Epoch 67/100\n",
      "42000/42000 [==============================] - 4s 90us/step - loss: 0.0934 - val_loss: 0.0947\n",
      "Epoch 68/100\n",
      "42000/42000 [==============================] - 4s 90us/step - loss: 0.0934 - val_loss: 0.0956\n",
      "Epoch 69/100\n",
      "42000/42000 [==============================] - 4s 91us/step - loss: 0.0933 - val_loss: 0.0948\n",
      "Epoch 70/100\n",
      "42000/42000 [==============================] - 4s 90us/step - loss: 0.0934 - val_loss: 0.0949\n",
      "Epoch 71/100\n",
      "42000/42000 [==============================] - 4s 90us/step - loss: 0.0933 - val_loss: 0.0946\n",
      "Epoch 72/100\n",
      "42000/42000 [==============================] - 4s 90us/step - loss: 0.0933 - val_loss: 0.0947\n",
      "Epoch 73/100\n",
      "42000/42000 [==============================] - 4s 90us/step - loss: 0.0933 - val_loss: 0.0948\n",
      "Epoch 74/100\n",
      "42000/42000 [==============================] - 4s 91us/step - loss: 0.0933 - val_loss: 0.0951\n",
      "Epoch 75/100\n",
      "42000/42000 [==============================] - 4s 91us/step - loss: 0.0933 - val_loss: 0.0948\n",
      "Epoch 76/100\n",
      "42000/42000 [==============================] - 4s 90us/step - loss: 0.0932 - val_loss: 0.0953\n",
      "Epoch 77/100\n",
      "42000/42000 [==============================] - 4s 90us/step - loss: 0.0932 - val_loss: 0.0945\n",
      "Epoch 78/100\n",
      "42000/42000 [==============================] - 4s 89us/step - loss: 0.0932 - val_loss: 0.0949\n",
      "Epoch 79/100\n",
      "42000/42000 [==============================] - 4s 90us/step - loss: 0.0932 - val_loss: 0.0947\n",
      "Epoch 80/100\n",
      "42000/42000 [==============================] - 4s 91us/step - loss: 0.0932 - val_loss: 0.0955\n",
      "Epoch 81/100\n",
      "42000/42000 [==============================] - 4s 90us/step - loss: 0.0932 - val_loss: 0.0948\n",
      "Epoch 82/100\n",
      "42000/42000 [==============================] - 4s 90us/step - loss: 0.0932 - val_loss: 0.0945\n",
      "Epoch 83/100\n",
      "42000/42000 [==============================] - 4s 90us/step - loss: 0.0932 - val_loss: 0.0946\n",
      "Epoch 84/100\n",
      "42000/42000 [==============================] - 4s 90us/step - loss: 0.0931 - val_loss: 0.0945\n",
      "Epoch 85/100\n",
      "42000/42000 [==============================] - 4s 90us/step - loss: 0.0931 - val_loss: 0.0945\n",
      "Epoch 86/100\n",
      "42000/42000 [==============================] - 4s 90us/step - loss: 0.0931 - val_loss: 0.0946\n",
      "Epoch 87/100\n",
      "42000/42000 [==============================] - 4s 90us/step - loss: 0.0931 - val_loss: 0.0949\n",
      "Epoch 88/100\n",
      "42000/42000 [==============================] - 4s 90us/step - loss: 0.0931 - val_loss: 0.0949\n",
      "Epoch 89/100\n",
      "42000/42000 [==============================] - 4s 90us/step - loss: 0.0931 - val_loss: 0.0946\n",
      "Epoch 90/100\n",
      "42000/42000 [==============================] - 4s 90us/step - loss: 0.0931 - val_loss: 0.0946\n",
      "Epoch 91/100\n",
      "42000/42000 [==============================] - 4s 90us/step - loss: 0.0931 - val_loss: 0.0946\n",
      "Epoch 92/100\n",
      "42000/42000 [==============================] - 4s 90us/step - loss: 0.0931 - val_loss: 0.0945\n",
      "Epoch 93/100\n",
      "42000/42000 [==============================] - 4s 90us/step - loss: 0.0930 - val_loss: 0.0944\n",
      "Epoch 94/100\n",
      "42000/42000 [==============================] - 4s 90us/step - loss: 0.0930 - val_loss: 0.0944\n",
      "Epoch 95/100\n",
      "42000/42000 [==============================] - 4s 90us/step - loss: 0.0930 - val_loss: 0.0944\n",
      "Epoch 96/100\n",
      "42000/42000 [==============================] - 4s 91us/step - loss: 0.0930 - val_loss: 0.0944\n",
      "Epoch 97/100\n",
      "42000/42000 [==============================] - 4s 90us/step - loss: 0.0930 - val_loss: 0.0946\n",
      "Epoch 98/100\n",
      "42000/42000 [==============================] - 4s 91us/step - loss: 0.0930 - val_loss: 0.0946\n",
      "Epoch 99/100\n",
      "42000/42000 [==============================] - 4s 90us/step - loss: 0.0929 - val_loss: 0.0955\n",
      "Epoch 100/100\n",
      "42000/42000 [==============================] - 4s 90us/step - loss: 0.0930 - val_loss: 0.0945\n"
     ]
    },
    {
     "data": {
      "text/plain": [
       "<keras.callbacks.History at 0x7f6620cf58d0>"
      ]
     },
     "execution_count": 12,
     "metadata": {},
     "output_type": "execute_result"
    }
   ],
   "source": [
    "noise_autoencoder = convolutional_autoencoder()\n",
    "noise_autoencoder.fit(\n",
    "    X_train_noisy, X_train, \n",
    "    epochs=n_epochs, \n",
    "    batch_size=batch_size, \n",
    "    validation_data=(X_valid_noisy, X_valid)\n",
    ")"
   ]
  },
  {
   "cell_type": "code",
   "execution_count": 13,
   "metadata": {},
   "outputs": [
    {
     "data": {
      "image/png": "[encoded data removed]",
      "text/plain": [
       "<matplotlib.figure.Figure at 0x7f66322911d0>"
      ]
     },
     "metadata": {},
     "output_type": "display_data"
    }
   ],
   "source": [
    "X_test_decoded = noise_autoencoder.predict(X_test_noisy)\n",
    "\n",
    "show_images(X_test_noisy, X_test_decoded)"
   ]
  },
  {
   "cell_type": "markdown",
   "metadata": {},
   "source": [
    "An interesting to test is the following :"
   ]
  },
  {
   "cell_type": "code",
   "execution_count": 14,
   "metadata": {},
   "outputs": [
    {
     "data": {
      "image/png": "[encoded data removed]",
      "text/plain": [
       "<matplotlib.figure.Figure at 0x7f6620faafd0>"
      ]
     },
     "metadata": {},
     "output_type": "display_data"
    }
   ],
   "source": [
    "X_test_decoded = autoencoder.predict(X_test_noisy)\n",
    "\n",
    "show_images(X_test_noisy, X_test_decoded)"
   ]
  }
 ],
 "metadata": {
  "kernelspec": {
   "display_name": "Python 3",
   "language": "python",
   "name": "python3"
  },
  "language_info": {
   "codemirror_mode": {
    "name": "ipython",
    "version": 3
   },
   "file_extension": ".py",
   "mimetype": "text/x-python",
   "name": "python",
   "nbconvert_exporter": "python",
   "pygments_lexer": "ipython3",
   "version": "3.6.3"
  }
 },
 "nbformat": 4,
 "nbformat_minor": 2
}
